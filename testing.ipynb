{
 "cells": [
  {
   "cell_type": "code",
   "execution_count": 25,
   "metadata": {},
   "outputs": [
    {
     "name": "stdout",
     "output_type": "stream",
     "text": [
      "base_url is  https://markly-backend-server-5si6.onrender.com/api/\n"
     ]
    }
   ],
   "source": [
    "import requests\n",
    "\n",
    "# API URL (port 8080)\n",
    "i=1\n",
    "server = [\"127.0.0.1\",\"markly-backend-server-5si6.onrender.com\"][i]\n",
    "port = [\":8080\",\"\"][i]\n",
    "protocol = [\"http\",\"https\"][i]\n",
    "base_url = f\"{protocol}://{server}{port}/api/\"\n",
    "print(\"base_url is \",base_url)\n",
    "signup_url = base_url+\"auth/signup\"\n",
    "login_url = base_url+\"auth/login\"\n",
    "bookmark_url = base_url+\"bookmarks\"\n",
    "users_url = base_url+\"users\""
   ]
  },
  {
   "cell_type": "markdown",
   "metadata": {},
   "source": [
    "## User Signup\n"
   ]
  },
  {
   "cell_type": "code",
   "execution_count": 27,
   "metadata": {},
   "outputs": [
    {
     "name": "stdout",
     "output_type": "stream",
     "text": [
      "Status code - 200 , JSON - {'message': 'User registered successfully'}\n"
     ]
    }
   ],
   "source": [
    "\n",
    "# Test Data\n",
    "user_data = {\n",
    "    \"name\": \"John Doe\",\n",
    "    \"email\": \"johndoe4@example.com\",\n",
    "    \"password\": \"SecurePass123!\"\n",
    "}\n",
    "\n",
    "# Making a POST request to signup\n",
    "response = requests.post(signup_url, json=user_data)\n",
    "\n",
    "print( \"Status code -\", response.status_code,\", JSON -\", response.json())"
   ]
  },
  {
   "cell_type": "markdown",
   "metadata": {},
   "source": [
    "## user login\n"
   ]
  },
  {
   "cell_type": "code",
   "execution_count": 29,
   "metadata": {},
   "outputs": [
    {
     "name": "stdout",
     "output_type": "stream",
     "text": [
      "Status code - 200 , JSON - {'_id': '67968259454edc1fcc1bba70', 'name': 'John Doe', 'email': 'johndoe4@example.com', 'passwordHash': 'HashSecurePass123!', 'createdAt': '2025-01-27T00:13:37Z', 'metadata': {}, 'updatedAt': '2025-01-27T00:13:37Z'}\n"
     ]
    }
   ],
   "source": [
    "\n",
    "# Test Data\n",
    "user_data = {\n",
    " #   \"name\": \"John Doe\",\n",
    "    \"email\": \"johndoe4@example.com\",\n",
    "    \"password\": \"SecurePass123!\"\n",
    "} \n",
    "\n",
    "# Making a POST request to signup\n",
    "response = requests.post(login_url, json=user_data)\n",
    "print( \"Status code -\", response.status_code,\", JSON -\", response.json())"
   ]
  },
  {
   "cell_type": "markdown",
   "metadata": {},
   "source": [
    "## add a bookmark\n"
   ]
  },
  {
   "cell_type": "code",
   "execution_count": 34,
   "metadata": {},
   "outputs": [
    {
     "name": "stdout",
     "output_type": "stream",
     "text": [
      "Status code - 200 , JSON - {'message': 'Bookmark registered successfully'}\n"
     ]
    }
   ],
   "source": [
    "\n",
    "# Test Data\n",
    "bookmark_data = {\n",
    " #   \"name\": \"John Doe\",\n",
    "    \"authorEmail\": \"johndoe4@example.com\",\n",
    "    \"title\": \"Youtube3\",\n",
    "    \"url\":\"youtube.com2\"\n",
    "}\n",
    "\n",
    "# Making a POST request to signup\n",
    "response = requests.post(bookmark_url, json=bookmark_data)\n",
    "print( \"Status code -\", response.status_code,\", JSON -\", response.json())"
   ]
  },
  {
   "cell_type": "markdown",
   "metadata": {},
   "source": [
    "## fetch all bookmarks\n"
   ]
  },
  {
   "cell_type": "code",
   "execution_count": 35,
   "metadata": {},
   "outputs": [
    {
     "name": "stdout",
     "output_type": "stream",
     "text": [
      "Status code - 200 , JSON - {'data': [{'_id': '6795f98530f92b076f468361', 'title': 'Intro to Next.js', 'url': 'https://example.com/nextjs-intro', 'description': 'Building React apps with Next.js framework', 'thumbnail': 'https://example.com/thumbnails/nextjs-intro.png', 'privacy': 'public', 'tags': ['react', 'nextjs'], 'stats': {'views': 220, 'upvotes': 32, 'downvotes': 2, 'ratingAverage': 4.6}, 'accesses': ['linda.scott@example.com'], 'categorySlug': 'YoutubeYoutubeYoutubeYoutube.com', 'collectionName': \"Linda's Next.js Resources\", 'createdAt': '2023-09-05T00:00:00', 'updatedAt': '2023-09-05T00:00:00', 'metadata': {}, 'authorEmail': 'linda.scott@example.com', 'authorEmailUrlHashedPrimaryKey': '7581187c98'}, {'_id': '6795f98530f92b076f468362', 'title': 'Building a SaaS with Next.js', 'url': 'https://example.com/nextjs-saas', 'description': 'A deep dive into creating SaaS platforms using Next.js', 'thumbnail': 'https://example.com/thumbnails/nextjs-saas.png', 'privacy': 'public', 'tags': ['react', 'nextjs', 'saas'], 'stats': {'views': 190, 'upvotes': 25, 'downvotes': 1, 'ratingAverage': 4.5}, 'accesses': ['linda.scott@example.com', 'jane.smith@example.com'], 'categorySlug': 'webdev', 'collectionName': \"Linda's Next.js Resources\", 'createdAt': '2023-09-06T00:00:00', 'updatedAt': '2023-09-07T00:00:00', 'metadata': {}, 'authorEmail': 'linda.scott@example.com', 'authorEmailUrlHashedPrimaryKey': '342b32003a'}], 'meta': {'total': 2}}\n"
     ]
    }
   ],
   "source": [
    "\n",
    "# Test Data\n",
    "bookmark_data = {\n",
    " #   \"name\": \"John Doe\",\n",
    "    \"authorEmail\": \"linda.scott@example.com\",\n",
    "#    \"title\": \"Youtube\",\n",
    "  #  \"url\":\"youtube.com\"\n",
    "}\n",
    "\n",
    "# Making a POST request to signup\n",
    "response = requests.get(bookmark_url, json=bookmark_data)\n",
    "print( \"Status code -\", response.status_code,\", JSON -\", response.json())"
   ]
  },
  {
   "cell_type": "markdown",
   "metadata": {},
   "source": [
    "## fetch single bookmark\n"
   ]
  },
  {
   "cell_type": "code",
   "execution_count": 36,
   "metadata": {},
   "outputs": [
    {
     "name": "stdout",
     "output_type": "stream",
     "text": [
      "Status code - 200 , JSON - {'data': [{'_id': '6795f98530f92b076f468361', 'title': 'Intro to Next.js', 'url': 'https://example.com/nextjs-intro', 'description': 'Building React apps with Next.js framework', 'thumbnail': 'https://example.com/thumbnails/nextjs-intro.png', 'privacy': 'public', 'tags': ['react', 'nextjs'], 'stats': {'views': 220, 'upvotes': 32, 'downvotes': 2, 'ratingAverage': 4.6}, 'accesses': ['linda.scott@example.com'], 'categorySlug': 'YoutubeYoutubeYoutubeYoutube.com', 'collectionName': \"Linda's Next.js Resources\", 'createdAt': '2023-09-05T00:00:00', 'updatedAt': '2023-09-05T00:00:00', 'metadata': {}, 'authorEmail': 'linda.scott@example.com', 'authorEmailUrlHashedPrimaryKey': '7581187c98'}], 'meta': {'total': 1}}\n"
     ]
    }
   ],
   "source": [
    "\n",
    "# Test Data\n",
    "bookmark_data = {\n",
    " #   \"name\": \"John Doe\",\n",
    "    \"authorEmail\": \"linda.scott@example.com\",\n",
    "    \"title\":\"Intro to Next.js\"\n",
    "#    \"title\": \"Youtube\",\n",
    "  #  \"url\":\"youtube.com\"\n",
    "}\n",
    "\n",
    "# Making a POST request to signup\n",
    "response = requests.get(bookmark_url, json=bookmark_data)\n",
    "print( \"Status code -\", response.status_code,\", JSON -\", response.json())"
   ]
  },
  {
   "cell_type": "markdown",
   "metadata": {},
   "source": [
    "## delete a bookmark\n"
   ]
  },
  {
   "cell_type": "code",
   "execution_count": 37,
   "metadata": {},
   "outputs": [
    {
     "name": "stdout",
     "output_type": "stream",
     "text": [
      "Status code - 200 , JSON - {'message': 'Bookmark deleted successfully', 'meta': {'deleted_count': 1}}\n"
     ]
    }
   ],
   "source": [
    "\n",
    "# Test Data\n",
    "bookmark_data = {\n",
    " #   \"name\": \"John Doe\",\n",
    "    \"authorEmail\": \"linda.scott@example.com\",\n",
    "    \"title\":\"Intro to Next.js\",\n",
    "    \"categorySlug\":\"YoutubeYoutubeYoutubeYoutube.com\"\n",
    "#    \"title\": \"Youtube\",\n",
    "  #  \"url\":\"youtube.com\"\n",
    "}\n",
    "\n",
    "# Making a POST request to signup\n",
    "response = requests.delete(bookmark_url, json=bookmark_data)\n",
    "print( \"Status code -\", response.status_code,\", JSON -\", response.json())"
   ]
  },
  {
   "cell_type": "markdown",
   "metadata": {},
   "source": [
    "## update a bookmark data\n"
   ]
  },
  {
   "cell_type": "code",
   "execution_count": 38,
   "metadata": {},
   "outputs": [
    {
     "name": "stdout",
     "output_type": "stream",
     "text": [
      "Status code - 404 , JSON - {'detail': 'No bookmarks found for the given email and title'}\n"
     ]
    }
   ],
   "source": [
    "\n",
    "# Test Data\n",
    "bookmark_data = {\n",
    " #   \"name\": \"John Doe\",\n",
    "    \"authorEmail\": \"linda.scott@example.com\",\n",
    "    \"title\":\"Intro to Next.js\",\n",
    "    \"to_update\":{\"categorySlug\":\"YoutubeYoutubeYoutubeYoutube.com\"}\n",
    "#    \"title\": \"Youtube\",\n",
    "  #  \"url\":\"youtube.com\"\n",
    "}\n",
    "\n",
    "# Making a POST request to signup\n",
    "response = requests.put(bookmark_url, json=bookmark_data)\n",
    "print( \"Status code -\", response.status_code,\", JSON -\", response.json())"
   ]
  },
  {
   "cell_type": "markdown",
   "metadata": {},
   "source": [
    "## Fetch User Info\n"
   ]
  },
  {
   "cell_type": "code",
   "execution_count": 39,
   "metadata": {},
   "outputs": [
    {
     "name": "stdout",
     "output_type": "stream",
     "text": [
      "Status code -> 200 <-, JSON -> {} <-\n"
     ]
    }
   ],
   "source": [
    "\n",
    "\n",
    "\n",
    "# Test Data\n",
    "data = {\n",
    " #   \"name\": \"John Doe\",\n",
    "    \"email\": \"john@example.com\",\n",
    "    \"title\":\"Intro to Next.js\",\n",
    "    \"to_update\":{\"categorySlug\":\"YoutubeYoutubeYoutubeYoutube.com\"}\n",
    "#    \"title\": \"Youtube\",\n",
    "  #  \"url\":\"youtube.com\"\n",
    "}\n",
    "\n",
    "# Making a POST request to signup\n",
    "response = requests.get(users_url, json=data)\n",
    "print( \"Status code ->\", response.status_code,\"<-, JSON ->\", response.json(),\"<-\")"
   ]
  },
  {
   "cell_type": "markdown",
   "metadata": {},
   "source": [
    "## Update User Profile\n"
   ]
  },
  {
   "cell_type": "code",
   "execution_count": 41,
   "metadata": {},
   "outputs": [
    {
     "name": "stdout",
     "output_type": "stream",
     "text": [
      "Status code -> 200 <-, JSON -> {'message': 'User updated successfully', 'meta': {'modified_count': 1, 'updated_fields': {'name': 'New r John'}}} <-\n"
     ]
    }
   ],
   "source": [
    "\n",
    "\n",
    "\n",
    "# Test Data\n",
    "data = {\n",
    " #   \"name\": \"John Doe\",\n",
    "    \"email\": \"john@example.com\",\n",
    "    \"title\":\"Intro to Next.js\",\n",
    "    \"to_update\":{\"name\":\"New r John\"}\n",
    "#    \"title\": \"Youtube\",\n",
    "  #  \"url\":\"youtube.com\"\n",
    "}\n",
    "\n",
    "# Making a POST request to signup\n",
    "response = requests.put(users_url, json=data)\n",
    "print( \"Status code ->\", response.status_code,\"<-, JSON ->\", response.json(),\"<-\")"
   ]
  },
  {
   "cell_type": "code",
   "execution_count": null,
   "metadata": {},
   "outputs": [],
   "source": []
  }
 ],
 "metadata": {
  "kernelspec": {
   "display_name": "rag",
   "language": "python",
   "name": "rag"
  },
  "language_info": {
   "codemirror_mode": {
    "name": "ipython",
    "version": 3
   },
   "file_extension": ".py",
   "mimetype": "text/x-python",
   "name": "python",
   "nbconvert_exporter": "python",
   "pygments_lexer": "ipython3",
   "version": "3.12.3"
  }
 },
 "nbformat": 4,
 "nbformat_minor": 2
}
